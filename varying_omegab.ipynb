{
 "cells": [
  {
   "cell_type": "code",
   "execution_count": 16,
   "metadata": {},
   "outputs": [],
   "source": [
    "# import necessary modules\n",
    "%matplotlib inline\n",
    "import matplotlib\n",
    "import matplotlib.pyplot as plt\n",
    "import numpy as np\n",
    "from classy import Class\n",
    "from scipy.optimize import fsolve\n",
    "import math"
   ]
  },
  {
   "cell_type": "code",
   "execution_count": 17,
   "metadata": {},
   "outputs": [],
   "source": [
    "# esthetic definitions for the plots\n",
    "font = {'size'   : 16, 'family':'STIXGeneral'}\n",
    "axislabelfontsize='large'\n",
    "matplotlib.rc('font', **font)\n",
    "matplotlib.mathtext.rcParams['legend.fontsize']='medium'\n",
    "plt.rcParams[\"figure.figsize\"] = [8.0,6.0]"
   ]
  },
  {
   "cell_type": "code",
   "execution_count": 18,
   "metadata": {},
   "outputs": [],
   "source": [
    "# Varying parameter (others fixed to default)\n",
    "var_name = 'omega_b'\n",
    "var_min = 0.01\n",
    "var_max = var_min + 0.025\n",
    "var_num = 3\n",
    "var_legend = r'$omega_\\mathrm{b}$'\n",
    "var_figname = 'omegab'"
   ]
  },
  {
   "cell_type": "code",
   "execution_count": 19,
   "metadata": {},
   "outputs": [],
   "source": [
    "# Fixed settings\n",
    "common_settings = {\n",
    "    'h': 0.7,\n",
    "    'omega_cdm': 0.12038,\n",
    "    'A_s': 2.215e-9,\n",
    "    'n_s': 0.96,\n",
    "    'tau_reio': 0.0925,\n",
    "    'YHe':0.246,\n",
    "    'output': 'tCl',\n",
    "}"
   ]
  },
  {
   "cell_type": "code",
   "execution_count": 20,
   "metadata": {},
   "outputs": [],
   "source": [
    "# arrays for output\n",
    "kvec = np.logspace(-4,np.log10(3),1000)\n",
    "legarray = []\n",
    "twopi = 2.*math.pi"
   ]
  },
  {
   "cell_type": "code",
   "execution_count": null,
   "metadata": {},
   "outputs": [
    {
     "name": "stdout",
     "output_type": "stream",
     "text": [
      "*Compute with omega_b=1.000000e-02\n",
      "*Compute with omega_b=2.250000e-02\n"
     ]
    }
   ],
   "source": [
    "# Create figure\n",
    "fig_TT, ax_TT = plt.subplots()\n",
    "\n",
    "# loop over varying parameter values\n",
    "for i in range(var_num):\n",
    "    #\n",
    "    # deal with varying parameters:\n",
    "    #\n",
    "    var = var_min + (var_max-var_min)*i/(var_num-1.)\n",
    "    #\n",
    "    print('*Compute with %s=%e'%(var_name,var))\n",
    "    #\n",
    "    # deal with colors and legends\n",
    "    #\n",
    "    if i == 0:\n",
    "        var_color = 'k'\n",
    "        var_alpha = 1.\n",
    "        legarray.append(r'ref. $\\Lambda CDM$')\n",
    "    else:\n",
    "        var_color = 'r'\n",
    "        var_alpha = 1.*i/(var_num-1.)\n",
    "    if i == var_num-1:\n",
    "        legarray.append(var_legend)  \n",
    "    #    \n",
    "    # call CLASS\n",
    "    #\n",
    "    M = Class()\n",
    "    M.set(common_settings)\n",
    "    M.set({var_name:var})\n",
    "    M.compute()\n",
    "    #\n",
    "    # get Cls\n",
    "    #\n",
    "    clM = M.raw_cl(2500)\n",
    "    ll = clM['ell'][2:]\n",
    "    clTT = clM['tt'][2:]\n",
    "    #\n",
    "    # plot C_l^TT\n",
    "    #\n",
    "    ax_TT.semilogx(ll,clTT*ll*(ll+1)/twopi,color=var_color,alpha=var_alpha,linestyle='-')\n",
    "    #\n",
    "    # reset CLASS\n",
    "    #\n",
    "    M.struct_cleanup()\n",
    "    \n",
    "#\n",
    "# output of C_l^TT figure\n",
    "#      \n",
    "ax_TT.set_xlim([2,2500])\n",
    "ax_TT.set_xlabel(r'$\\ell$')\n",
    "ax_TT.set_ylabel(r'$[\\ell(\\ell+1)/2\\pi]  C_\\ell^\\mathrm{TT}$')\n",
    "ax_TT.legend(legarray)\n",
    "fig_TT.tight_layout()\n",
    "fig_TT.savefig('spectra_%s_cltt.pdf' % var_figname)"
   ]
  },
  {
   "cell_type": "code",
   "execution_count": null,
   "metadata": {},
   "outputs": [],
   "source": []
  }
 ],
 "metadata": {
  "kernelspec": {
   "display_name": "Python 3",
   "language": "python",
   "name": "python3"
  },
  "language_info": {
   "codemirror_mode": {
    "name": "ipython",
    "version": 3
   },
   "file_extension": ".py",
   "mimetype": "text/x-python",
   "name": "python",
   "nbconvert_exporter": "python",
   "pygments_lexer": "ipython3",
   "version": "3.8.2"
  }
 },
 "nbformat": 4,
 "nbformat_minor": 4
}
