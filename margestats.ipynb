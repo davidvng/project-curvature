{
 "cells": [
  {
   "cell_type": "code",
   "execution_count": 45,
   "metadata": {},
   "outputs": [
    {
     "name": "stderr",
     "output_type": "stream",
     "text": [
      "WARNING:root:fine_bins not large enough to well sample smoothing scale - chi2__CMB\n",
      "WARNING:root:fine_bins not large enough to well sample smoothing scale - chi2\n",
      "WARNING:root:fine_bins not large enough to well sample smoothing scale - chi2__planck_2018_highl_plik.TTTEEE\n"
     ]
    }
   ],
   "source": [
    "from getdist.mcsamples import loadMCSamples\n",
    "from getdist.mcsamples import MCSamples\n",
    "from getdist.types import ResultTable\n",
    "\n",
    "gd_sample = loadMCSamples(\"/home/davidvng/repos/project-curvature/chains/lcdm_highTTTEEE+lowEE\")\n",
    "table = gd_sample.getTable(paramList=['omega_b',\n",
    "                                      'omega_cdm',\n",
    "                                      'theta_s_1e2',\n",
    "                                      'tau_reio',\n",
    "                                      'logA',\n",
    "                                      'n_s',\n",
    "                                      'Omega_m',\n",
    "                                      'omegamh2',\n",
    "                                      'H0',\n",
    "                                      'age',\n",
    "                                      'sigma8',\n",
    "                                      'z_reio',\n",
    "                                      'rs_drag'])"
   ]
  },
  {
   "cell_type": "code",
   "execution_count": 46,
   "metadata": {},
   "outputs": [],
   "source": [
    "tex = table.tableTex(document=True)\n",
    "\n",
    "from latex import build_pdf\n",
    "\n",
    "pdf = build_pdf(tex)\n",
    "pdf.save_to('stats/lcdm_highTTTEEE+lowEE.pdf')"
   ]
  },
  {
   "cell_type": "code",
   "execution_count": 47,
   "metadata": {},
   "outputs": [
    {
     "name": "stdout",
     "output_type": "stream",
     "text": [
      "67.08520254424158\n",
      "0.5922387902715663\n",
      "66.50156\n",
      "67.67548000000001\n"
     ]
    }
   ],
   "source": [
    "from getdist.types import MargeStats\n",
    "from getdist.types import ParamResults\n",
    "\n",
    "margeStats = gd_sample.getMargeStats()\n",
    "par = margeStats.parWithName('H0')\n",
    "print(par.mean)\n",
    "print(par.err)\n",
    "print(par.limits[0].lower)\n",
    "print(par.limits[0].upper)"
   ]
  },
  {
   "cell_type": "code",
   "execution_count": null,
   "metadata": {},
   "outputs": [],
   "source": []
  },
  {
   "cell_type": "code",
   "execution_count": 48,
   "metadata": {},
   "outputs": [],
   "source": [
    "from getdist.mcsamples import loadMCSamples\n",
    "from getdist.mcsamples import MCSamples\n",
    "from getdist.types import ResultTable\n",
    "\n",
    "gd_sample = loadMCSamples(\"/home/davidvng/repos/project-curvature/chains/lcdm_highTE+lowEE\")\n",
    "table = gd_sample.getTable(paramList=['omega_b',\n",
    "                                      'omega_cdm',\n",
    "                                      'theta_s_1e2',\n",
    "                                      'tau_reio',\n",
    "                                      'logA',\n",
    "                                      'n_s',\n",
    "                                      'Omega_m',\n",
    "                                      'omegamh2',\n",
    "                                      'H0',\n",
    "                                      'age',\n",
    "                                      'sigma8',\n",
    "                                      'z_reio',\n",
    "                                      'rs_drag'])"
   ]
  },
  {
   "cell_type": "code",
   "execution_count": 49,
   "metadata": {},
   "outputs": [],
   "source": [
    "tex = table.tableTex(document=True)\n",
    "\n",
    "from latex import build_pdf\n",
    "\n",
    "pdf = build_pdf(tex)\n",
    "pdf.save_to('stats/lcdm_highTE+lowEE.pdf')"
   ]
  },
  {
   "cell_type": "code",
   "execution_count": 50,
   "metadata": {},
   "outputs": [
    {
     "name": "stdout",
     "output_type": "stream",
     "text": [
      "/home/davidvng/repos/project-curvature/chains/lcdm_highTT+lowEE.1.txt\n",
      "/home/davidvng/repos/project-curvature/chains/lcdm_highTT+lowEE.2.txt\n",
      "/home/davidvng/repos/project-curvature/chains/lcdm_highTT+lowEE.3.txt\n",
      "/home/davidvng/repos/project-curvature/chains/lcdm_highTT+lowEE.4.txt\n"
     ]
    },
    {
     "name": "stderr",
     "output_type": "stream",
     "text": [
      "WARNING:root:auto bandwidth for xi_sz_cib very small or failed (h=0.0005122531469684868,N_eff=8095.322914871055). Using fallback (h=0.0662729152849879)\n"
     ]
    },
    {
     "name": "stdout",
     "output_type": "stream",
     "text": [
      "Removed no burn in\n"
     ]
    },
    {
     "name": "stderr",
     "output_type": "stream",
     "text": [
      "WARNING:root:fine_bins not large enough to well sample smoothing scale - chi2__CMB\n",
      "WARNING:root:fine_bins not large enough to well sample smoothing scale - chi2\n",
      "WARNING:root:fine_bins not large enough to well sample smoothing scale - chi2__planck_2018_highl_plik.TT\n"
     ]
    }
   ],
   "source": [
    "from getdist.mcsamples import loadMCSamples\n",
    "from getdist.mcsamples import MCSamples\n",
    "from getdist.types import ResultTable\n",
    "\n",
    "gd_sample = loadMCSamples(\"/home/davidvng/repos/project-curvature/chains/lcdm_highTT+lowEE\")\n",
    "table = gd_sample.getTable(paramList=['omega_b',\n",
    "                                      'omega_cdm',\n",
    "                                      'theta_s_1e2',\n",
    "                                      'tau_reio',\n",
    "                                      'logA',\n",
    "                                      'n_s',\n",
    "                                      'Omega_m',\n",
    "                                      'omegamh2',\n",
    "                                      'H0',\n",
    "                                      'age',\n",
    "                                      'sigma8',\n",
    "                                      'z_reio',\n",
    "                                      'rs_drag'])"
   ]
  },
  {
   "cell_type": "code",
   "execution_count": 51,
   "metadata": {},
   "outputs": [],
   "source": [
    "tex = table.tableTex(document=True)\n",
    "\n",
    "from latex import build_pdf\n",
    "\n",
    "pdf = build_pdf(tex)\n",
    "pdf.save_to('stats/lcdm_highTT+lowEE.pdf')"
   ]
  },
  {
   "cell_type": "code",
   "execution_count": 1,
   "metadata": {},
   "outputs": [
    {
     "name": "stdout",
     "output_type": "stream",
     "text": [
      "/home/davidvng/repos/project-curvature/chains/lcdm_highEE+lowEE+BAO.1.txt\n",
      "/home/davidvng/repos/project-curvature/chains/lcdm_highEE+lowEE+BAO.2.txt\n",
      "/home/davidvng/repos/project-curvature/chains/lcdm_highEE+lowEE+BAO.3.txt\n",
      "/home/davidvng/repos/project-curvature/chains/lcdm_highEE+lowEE+BAO.4.txt\n",
      "Removed no burn in\n"
     ]
    },
    {
     "name": "stderr",
     "output_type": "stream",
     "text": [
      "WARNING:root:fine_bins not large enough to well sample smoothing scale - chi2__CMB\n",
      "WARNING:root:fine_bins not large enough to well sample smoothing scale - chi2__BAO\n"
     ]
    }
   ],
   "source": [
    "from getdist.mcsamples import loadMCSamples\n",
    "from getdist.mcsamples import MCSamples\n",
    "from getdist.types import ResultTable\n",
    "\n",
    "gd_sample = loadMCSamples(\"/home/davidvng/repos/project-curvature/chains/lcdm_highEE+lowEE+BAO\")\n",
    "table = gd_sample.getTable(paramList=['omega_b',\n",
    "                                      'omega_cdm',\n",
    "                                      'theta_s_1e2',\n",
    "                                      'tau_reio',\n",
    "                                      'logA',\n",
    "                                      'n_s',\n",
    "                                      'Omega_m',\n",
    "                                      'omegamh2',\n",
    "                                      'H0',\n",
    "                                      'age',\n",
    "                                      'sigma8',\n",
    "                                      'z_reio',\n",
    "                                      'rs_drag'])"
   ]
  },
  {
   "cell_type": "code",
   "execution_count": 2,
   "metadata": {},
   "outputs": [],
   "source": [
    "tex = table.tableTex(document=True)\n",
    "\n",
    "from latex import build_pdf\n",
    "\n",
    "pdf = build_pdf(tex)\n",
    "pdf.save_to('stats/lcdm_highEE+lowEE+BAO.pdf')"
   ]
  },
  {
   "cell_type": "code",
   "execution_count": 8,
   "metadata": {},
   "outputs": [],
   "source": [
    "from getdist.mcsamples import loadMCSamples\n",
    "from getdist.mcsamples import MCSamples\n",
    "from getdist.types import ResultTable\n",
    "\n",
    "gd_sample = loadMCSamples(\"/home/davidvng/repos/project-curvature/chains/omegak_lowEE+lowTT+highTTTEEE+lens\", settings={'ignore_rows':0.3})\n",
    "table = gd_sample.getTable(paramList=['omega_b',\n",
    "                                      'omega_cdm',\n",
    "                                      'theta_s_1e2',\n",
    "                                      'tau_reio',\n",
    "                                      'logA',\n",
    "                                      'n_s',\n",
    "                                      'Omega_m',\n",
    "                                      'omegamh2',\n",
    "                                      'H0',\n",
    "                                      'age',\n",
    "                                      'sigma8',\n",
    "                                      'z_reio',\n",
    "                                      'rs_drag',\n",
    "                                      'Omega_k'])"
   ]
  },
  {
   "cell_type": "code",
   "execution_count": 9,
   "metadata": {},
   "outputs": [],
   "source": [
    "tex = table.tableTex(document=True)\n",
    "\n",
    "from latex import build_pdf\n",
    "\n",
    "pdf = build_pdf(tex)\n",
    "pdf.save_to('stats/omegak_lowEE+lowTT+highTTTEEE+lens.pdf')"
   ]
  },
  {
   "cell_type": "code",
   "execution_count": null,
   "metadata": {},
   "outputs": [],
   "source": []
  }
 ],
 "metadata": {
  "kernelspec": {
   "display_name": "Python 3",
   "language": "python",
   "name": "python3"
  },
  "language_info": {
   "codemirror_mode": {
    "name": "ipython",
    "version": 3
   },
   "file_extension": ".py",
   "mimetype": "text/x-python",
   "name": "python",
   "nbconvert_exporter": "python",
   "pygments_lexer": "ipython3",
   "version": "3.8.2"
  }
 },
 "nbformat": 4,
 "nbformat_minor": 4
}
