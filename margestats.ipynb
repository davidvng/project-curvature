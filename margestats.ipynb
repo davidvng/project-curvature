{
 "cells": [
  {
   "cell_type": "code",
   "execution_count": 11,
   "metadata": {},
   "outputs": [
    {
     "name": "stdout",
     "output_type": "stream",
     "text": [
      "/home/davidvng/repos/project-curvature/chains/lcdm_highTTTEEE+lowEE.1.txt\n",
      "/home/davidvng/repos/project-curvature/chains/lcdm_highTTTEEE+lowEE.2.txt\n",
      "/home/davidvng/repos/project-curvature/chains/lcdm_highTTTEEE+lowEE.3.txt\n",
      "/home/davidvng/repos/project-curvature/chains/lcdm_highTTTEEE+lowEE.4.txt\n",
      "/home/davidvng/repos/project-curvature/chains/lcdm_highTTTEEE+lowEE.5.txt\n",
      "/home/davidvng/repos/project-curvature/chains/lcdm_highTTTEEE+lowEE.6.txt\n",
      "Removed no burn in\n"
     ]
    },
    {
     "name": "stderr",
     "output_type": "stream",
     "text": [
      "WARNING:root:fine_bins not large enough to well sample smoothing scale - chi2__CMB\n",
      "WARNING:root:fine_bins not large enough to well sample smoothing scale - chi2\n",
      "WARNING:root:fine_bins not large enough to well sample smoothing scale - chi2__planck_2018_highl_plik.TTTEEE\n"
     ]
    }
   ],
   "source": [
    "from getdist.mcsamples import loadMCSamples\n",
    "from getdist.mcsamples import MCSamples\n",
    "from getdist.types import ResultTable\n",
    "\n",
    "gd_sample = loadMCSamples(\"/home/davidvng/repos/project-curvature/chains/lcdm_highTTTEEE+lowEE\")\n",
    "table = gd_sample.getTable(paramList=['omega_b',\n",
    "                                      'omega_cdm',\n",
    "                                      'theta_s_1e2',\n",
    "                                      'tau_reio',\n",
    "                                      'logA',\n",
    "                                      'n_s',\n",
    "                                      'Omega_m',\n",
    "                                      'omegamh2',\n",
    "                                      'H0',\n",
    "                                      'age',\n",
    "                                      'sigma8',\n",
    "                                      'z_reio',\n",
    "                                      'rs_drag',\n",
    "                                      'Omega_Lambda'])"
   ]
  },
  {
   "cell_type": "code",
   "execution_count": 12,
   "metadata": {},
   "outputs": [],
   "source": [
    "tex = table.tableTex(document=True)\n",
    "\n",
    "from latex import build_pdf\n",
    "\n",
    "pdf = build_pdf(tex)\n",
    "pdf.save_to('stats/lcdm_highTTTEEE+lowEE.pdf')"
   ]
  },
  {
   "cell_type": "code",
   "execution_count": 47,
   "metadata": {},
   "outputs": [
    {
     "name": "stdout",
     "output_type": "stream",
     "text": [
      "67.08520254424158\n",
      "0.5922387902715663\n",
      "66.50156\n",
      "67.67548000000001\n"
     ]
    }
   ],
   "source": [
    "from getdist.types import MargeStats\n",
    "from getdist.types import ParamResults\n",
    "\n",
    "margeStats = gd_sample.getMargeStats()\n",
    "par = margeStats.parWithName('H0')\n",
    "print(par.mean)\n",
    "print(par.err)\n",
    "print(par.limits[0].lower)\n",
    "print(par.limits[0].upper)"
   ]
  },
  {
   "cell_type": "code",
   "execution_count": null,
   "metadata": {},
   "outputs": [],
   "source": []
  },
  {
   "cell_type": "code",
   "execution_count": 9,
   "metadata": {},
   "outputs": [],
   "source": [
    "from getdist.mcsamples import loadMCSamples\n",
    "from getdist.mcsamples import MCSamples\n",
    "from getdist.types import ResultTable\n",
    "\n",
    "gd_sample = loadMCSamples(\"/home/davidvng/repos/project-curvature/chains/lcdm_highTE+lowEE\")\n",
    "table = gd_sample.getTable(paramList=['omega_b',\n",
    "                                      'omega_cdm',\n",
    "                                      'theta_s_1e2',\n",
    "                                      'tau_reio',\n",
    "                                      'logA',\n",
    "                                      'n_s',\n",
    "                                      'Omega_m',\n",
    "                                      'omegamh2',\n",
    "                                      'H0',\n",
    "                                      'age',\n",
    "                                      'sigma8',\n",
    "                                      'z_reio',\n",
    "                                      'rs_drag',\n",
    "                                      'Omega_Lambda'])"
   ]
  },
  {
   "cell_type": "code",
   "execution_count": 10,
   "metadata": {},
   "outputs": [],
   "source": [
    "tex = table.tableTex(document=True)\n",
    "\n",
    "from latex import build_pdf\n",
    "\n",
    "pdf = build_pdf(tex)\n",
    "pdf.save_to('stats/lcdm_highTE+lowEE.pdf')"
   ]
  },
  {
   "cell_type": "code",
   "execution_count": 7,
   "metadata": {},
   "outputs": [
    {
     "name": "stdout",
     "output_type": "stream",
     "text": [
      "/home/davidvng/repos/project-curvature/chains/lcdm_highTT+lowEE.1.txt\n",
      "/home/davidvng/repos/project-curvature/chains/lcdm_highTT+lowEE.2.txt\n",
      "/home/davidvng/repos/project-curvature/chains/lcdm_highTT+lowEE.3.txt\n",
      "/home/davidvng/repos/project-curvature/chains/lcdm_highTT+lowEE.4.txt\n",
      "Removed no burn in\n"
     ]
    },
    {
     "name": "stderr",
     "output_type": "stream",
     "text": [
      "WARNING:root:fine_bins not large enough to well sample smoothing scale - chi2__CMB\n",
      "WARNING:root:fine_bins not large enough to well sample smoothing scale - chi2\n",
      "WARNING:root:fine_bins not large enough to well sample smoothing scale - chi2__planck_2018_highl_plik.TT\n"
     ]
    }
   ],
   "source": [
    "from getdist.mcsamples import loadMCSamples\n",
    "from getdist.mcsamples import MCSamples\n",
    "from getdist.types import ResultTable\n",
    "\n",
    "gd_sample = loadMCSamples(\"/home/davidvng/repos/project-curvature/chains/lcdm_highTT+lowEE\")\n",
    "table = gd_sample.getTable(paramList=['omega_b',\n",
    "                                      'omega_cdm',\n",
    "                                      'theta_s_1e2',\n",
    "                                      'tau_reio',\n",
    "                                      'logA',\n",
    "                                      'n_s',\n",
    "                                      'Omega_m',\n",
    "                                      'omegamh2',\n",
    "                                      'H0',\n",
    "                                      'age',\n",
    "                                      'sigma8',\n",
    "                                      'z_reio',\n",
    "                                      'rs_drag',\n",
    "                                      'Omega_Lambda'])"
   ]
  },
  {
   "cell_type": "code",
   "execution_count": 8,
   "metadata": {},
   "outputs": [],
   "source": [
    "tex = table.tableTex(document=True)\n",
    "\n",
    "from latex import build_pdf\n",
    "\n",
    "pdf = build_pdf(tex)\n",
    "pdf.save_to('stats/lcdm_highTT+lowEE.pdf')"
   ]
  },
  {
   "cell_type": "code",
   "execution_count": 5,
   "metadata": {},
   "outputs": [
    {
     "name": "stdout",
     "output_type": "stream",
     "text": [
      "/home/davidvng/repos/project-curvature/chains/lcdm_highEE+lowEE+BAO.1.txt\n",
      "/home/davidvng/repos/project-curvature/chains/lcdm_highEE+lowEE+BAO.2.txt\n",
      "/home/davidvng/repos/project-curvature/chains/lcdm_highEE+lowEE+BAO.3.txt\n",
      "/home/davidvng/repos/project-curvature/chains/lcdm_highEE+lowEE+BAO.4.txt\n",
      "Removed no burn in\n"
     ]
    },
    {
     "name": "stderr",
     "output_type": "stream",
     "text": [
      "WARNING:root:fine_bins not large enough to well sample smoothing scale - chi2__CMB\n",
      "WARNING:root:fine_bins not large enough to well sample smoothing scale - chi2__BAO\n"
     ]
    }
   ],
   "source": [
    "from getdist.mcsamples import loadMCSamples\n",
    "from getdist.mcsamples import MCSamples\n",
    "from getdist.types import ResultTable\n",
    "\n",
    "gd_sample = loadMCSamples(\"/home/davidvng/repos/project-curvature/chains/lcdm_highEE+lowEE+BAO\")\n",
    "table = gd_sample.getTable(paramList=['omega_b',\n",
    "                                      'omega_cdm',\n",
    "                                      'theta_s_1e2',\n",
    "                                      'tau_reio',\n",
    "                                      'logA',\n",
    "                                      'n_s',\n",
    "                                      'Omega_m',\n",
    "                                      'omegamh2',\n",
    "                                      'H0',\n",
    "                                      'age',\n",
    "                                      'sigma8',\n",
    "                                      'z_reio',\n",
    "                                      'rs_drag',\n",
    "                                      'Omega_Lambda'])"
   ]
  },
  {
   "cell_type": "code",
   "execution_count": 6,
   "metadata": {},
   "outputs": [],
   "source": [
    "tex = table.tableTex(document=True)\n",
    "\n",
    "from latex import build_pdf\n",
    "\n",
    "pdf = build_pdf(tex)\n",
    "pdf.save_to('stats/lcdm_highEE+lowEE+BAO.pdf')"
   ]
  },
  {
   "cell_type": "code",
   "execution_count": 3,
   "metadata": {},
   "outputs": [
    {
     "name": "stdout",
     "output_type": "stream",
     "text": [
      "/home/davidvng/repos/project-curvature/chains/omegak_lowEE+lowTT+highTTTEEE+lens.1.txt\n",
      "/home/davidvng/repos/project-curvature/chains/omegak_lowEE+lowTT+highTTTEEE+lens.2.txt\n",
      "/home/davidvng/repos/project-curvature/chains/omegak_lowEE+lowTT+highTTTEEE+lens.3.txt\n",
      "/home/davidvng/repos/project-curvature/chains/omegak_lowEE+lowTT+highTTTEEE+lens.4.txt\n",
      "/home/davidvng/repos/project-curvature/chains/omegak_lowEE+lowTT+highTTTEEE+lens.5.txt\n",
      "/home/davidvng/repos/project-curvature/chains/omegak_lowEE+lowTT+highTTTEEE+lens.6.txt\n",
      "Removed 0.3 as burn in\n"
     ]
    }
   ],
   "source": [
    "from getdist.mcsamples import loadMCSamples\n",
    "from getdist.mcsamples import MCSamples\n",
    "from getdist.types import ResultTable\n",
    "\n",
    "gd_sample = loadMCSamples(\"/home/davidvng/repos/project-curvature/chains/omegak_lowEE+lowTT+highTTTEEE+lens\", settings={'ignore_rows':0.3})\n",
    "table = gd_sample.getTable(paramList=['omega_b',\n",
    "                                      'omega_cdm',\n",
    "                                      'theta_s_1e2',\n",
    "                                      'tau_reio',\n",
    "                                      'logA',\n",
    "                                      'n_s',\n",
    "                                      'Omega_m',\n",
    "                                      'omegamh2',\n",
    "                                      'H0',\n",
    "                                      'age',\n",
    "                                      'sigma8',\n",
    "                                      'z_reio',\n",
    "                                      'rs_drag',\n",
    "                                      'Omega_k',\n",
    "                                      'Omega_Lambda'])"
   ]
  },
  {
   "cell_type": "code",
   "execution_count": 4,
   "metadata": {},
   "outputs": [],
   "source": [
    "tex = table.tableTex(document=True)\n",
    "\n",
    "from latex import build_pdf\n",
    "\n",
    "pdf = build_pdf(tex)\n",
    "pdf.save_to('stats/omegak_lowEE+lowTT+highTTTEEE+lens.pdf')"
   ]
  },
  {
   "cell_type": "code",
   "execution_count": 1,
   "metadata": {},
   "outputs": [
    {
     "name": "stdout",
     "output_type": "stream",
     "text": [
      "/home/davidvng/repos/project-curvature/chains/omegak_lite.1.txt\n",
      "/home/davidvng/repos/project-curvature/chains/omegak_lite.2.txt\n",
      "/home/davidvng/repos/project-curvature/chains/omegak_lite.3.txt\n",
      "/home/davidvng/repos/project-curvature/chains/omegak_lite.4.txt\n",
      "Removed 0.3 as burn in\n"
     ]
    }
   ],
   "source": [
    "from getdist.mcsamples import loadMCSamples\n",
    "from getdist.mcsamples import MCSamples\n",
    "from getdist.types import ResultTable\n",
    "\n",
    "gd_sample = loadMCSamples(\"/home/davidvng/repos/project-curvature/chains/omegak_lite\", settings={'ignore_rows':0.3})\n",
    "table = gd_sample.getTable(paramList=['omega_b',\n",
    "                                      'omega_cdm',\n",
    "                                      'theta_s_1e2',\n",
    "                                      'tau_reio',\n",
    "                                      'logA',\n",
    "                                      'n_s',\n",
    "                                      'Omega_m',\n",
    "                                      'omegamh2',\n",
    "                                      'H0',\n",
    "                                      'age',\n",
    "                                      'sigma8',\n",
    "                                      'z_reio',\n",
    "                                      'rs_drag',\n",
    "                                      'Omega_k',\n",
    "                                      'Omega_Lambda'])"
   ]
  },
  {
   "cell_type": "code",
   "execution_count": 2,
   "metadata": {},
   "outputs": [],
   "source": [
    "tex = table.tableTex(document=True)\n",
    "\n",
    "from latex import build_pdf\n",
    "\n",
    "pdf = build_pdf(tex)\n",
    "pdf.save_to('stats/omegak_lowEE+lowTT+highTTTEEE.pdf')"
   ]
  },
  {
   "cell_type": "code",
   "execution_count": 1,
   "metadata": {},
   "outputs": [
    {
     "name": "stderr",
     "output_type": "stream",
     "text": [
      "WARNING:root:outlier fraction 0.0058348294434470375 \n"
     ]
    },
    {
     "name": "stdout",
     "output_type": "stream",
     "text": [
      "/home/davidvng/repos/project-curvature/chains/omegak_lowEE+lowTT+highTT.1.txt\n",
      "/home/davidvng/repos/project-curvature/chains/omegak_lowEE+lowTT+highTT.2.txt\n",
      "/home/davidvng/repos/project-curvature/chains/omegak_lowEE+lowTT+highTT.3.txt\n",
      "/home/davidvng/repos/project-curvature/chains/omegak_lowEE+lowTT+highTT.4.txt\n",
      "Removed 0.3 as burn in\n"
     ]
    }
   ],
   "source": [
    "from getdist.mcsamples import loadMCSamples\n",
    "from getdist.mcsamples import MCSamples\n",
    "from getdist.types import ResultTable\n",
    "\n",
    "gd_sample = loadMCSamples(\"/home/davidvng/repos/project-curvature/chains/omegak_lowEE+lowTT+highTT\", settings={'ignore_rows':0.3})\n",
    "table = gd_sample.getTable(paramList=['omega_b',\n",
    "                                      'omega_cdm',\n",
    "                                      'theta_s_1e2',\n",
    "                                      'tau_reio',\n",
    "                                      'logA',\n",
    "                                      'n_s',\n",
    "                                      'Omega_m',\n",
    "                                      'omegamh2',\n",
    "                                      'H0',\n",
    "                                      'age',\n",
    "                                      'sigma8',\n",
    "                                      'z_reio',\n",
    "                                      'rs_drag',\n",
    "                                      'Omega_k',\n",
    "                                      'Omega_Lambda'])"
   ]
  },
  {
   "cell_type": "code",
   "execution_count": 2,
   "metadata": {},
   "outputs": [],
   "source": [
    "tex = table.tableTex(document=True)\n",
    "\n",
    "from latex import build_pdf\n",
    "\n",
    "pdf = build_pdf(tex)\n",
    "pdf.save_to('stats/omegak_lowEE+lowTT+highTT.pdf')"
   ]
  },
  {
   "cell_type": "code",
   "execution_count": 3,
   "metadata": {},
   "outputs": [
    {
     "name": "stderr",
     "output_type": "stream",
     "text": [
      "WARNING:root:outlier fraction 0.002565042139978014 \n"
     ]
    },
    {
     "name": "stdout",
     "output_type": "stream",
     "text": [
      "/home/davidvng/repos/project-curvature/chains/omegak_lowEE+lowTT+highTT+Pantheon.1.txt\n",
      "/home/davidvng/repos/project-curvature/chains/omegak_lowEE+lowTT+highTT+Pantheon.2.txt\n",
      "/home/davidvng/repos/project-curvature/chains/omegak_lowEE+lowTT+highTT+Pantheon.3.txt\n",
      "/home/davidvng/repos/project-curvature/chains/omegak_lowEE+lowTT+highTT+Pantheon.4.txt\n",
      "Removed 0.1 as burn in\n"
     ]
    }
   ],
   "source": [
    "from getdist.mcsamples import loadMCSamples\n",
    "from getdist.mcsamples import MCSamples\n",
    "from getdist.types import ResultTable\n",
    "\n",
    "gd_sample = loadMCSamples(\"/home/davidvng/repos/project-curvature/chains/omegak_lowEE+lowTT+highTT+Pantheon\", settings={'ignore_rows':0.1})\n",
    "table = gd_sample.getTable(paramList=['omega_b',\n",
    "                                      'omega_cdm',\n",
    "                                      'theta_s_1e2',\n",
    "                                      'tau_reio',\n",
    "                                      'logA',\n",
    "                                      'n_s',\n",
    "                                      'Omega_m',\n",
    "                                      'omegamh2',\n",
    "                                      'H0',\n",
    "                                      'age',\n",
    "                                      'sigma8',\n",
    "                                      'z_reio',\n",
    "                                      'rs_drag',\n",
    "                                      'Omega_k',\n",
    "                                      'Omega_Lambda'])"
   ]
  },
  {
   "cell_type": "code",
   "execution_count": 4,
   "metadata": {},
   "outputs": [],
   "source": [
    "tex = table.tableTex(document=True)\n",
    "\n",
    "from latex import build_pdf\n",
    "\n",
    "pdf = build_pdf(tex)\n",
    "pdf.save_to('stats/omegak_lowEE+lowTT+highTT+Pantheon.pdf')"
   ]
  },
  {
   "cell_type": "code",
   "execution_count": 5,
   "metadata": {},
   "outputs": [
    {
     "name": "stdout",
     "output_type": "stream",
     "text": [
      "/home/davidvng/repos/project-curvature/chains/omegak_lowEE+lowTT+highTTTEEE+Pantheon.1.txt\n",
      "/home/davidvng/repos/project-curvature/chains/omegak_lowEE+lowTT+highTTTEEE+Pantheon.2.txt\n",
      "/home/davidvng/repos/project-curvature/chains/omegak_lowEE+lowTT+highTTTEEE+Pantheon.3.txt\n",
      "/home/davidvng/repos/project-curvature/chains/omegak_lowEE+lowTT+highTTTEEE+Pantheon.4.txt\n",
      "Removed 0.1 as burn in\n"
     ]
    }
   ],
   "source": [
    "from getdist.mcsamples import loadMCSamples\n",
    "from getdist.mcsamples import MCSamples\n",
    "from getdist.types import ResultTable\n",
    "\n",
    "gd_sample = loadMCSamples(\"/home/davidvng/repos/project-curvature/chains/omegak_lowEE+lowTT+highTTTEEE+Pantheon\", settings={'ignore_rows':0.1})\n",
    "table = gd_sample.getTable(paramList=['omega_b',\n",
    "                                      'omega_cdm',\n",
    "                                      'theta_s_1e2',\n",
    "                                      'tau_reio',\n",
    "                                      'logA',\n",
    "                                      'n_s',\n",
    "                                      'Omega_m',\n",
    "                                      'omegamh2',\n",
    "                                      'H0',\n",
    "                                      'age',\n",
    "                                      'sigma8',\n",
    "                                      'z_reio',\n",
    "                                      'rs_drag',\n",
    "                                      'Omega_k',\n",
    "                                      'Omega_Lambda'])"
   ]
  },
  {
   "cell_type": "code",
   "execution_count": 6,
   "metadata": {},
   "outputs": [],
   "source": [
    "tex = table.tableTex(document=True)\n",
    "\n",
    "from latex import build_pdf\n",
    "\n",
    "pdf = build_pdf(tex)\n",
    "pdf.save_to('stats/omegak_lowEE+lowTT+highTTTEEE+Pantheon.pdf')"
   ]
  },
  {
   "cell_type": "code",
   "execution_count": 7,
   "metadata": {},
   "outputs": [
    {
     "name": "stdout",
     "output_type": "stream",
     "text": [
      "/home/davidvng/repos/project-curvature/chains/omegak_lowEE+lowTT+highTTTEEE+Pantheon+lens.1.txt\n",
      "/home/davidvng/repos/project-curvature/chains/omegak_lowEE+lowTT+highTTTEEE+Pantheon+lens.2.txt\n",
      "/home/davidvng/repos/project-curvature/chains/omegak_lowEE+lowTT+highTTTEEE+Pantheon+lens.3.txt\n",
      "/home/davidvng/repos/project-curvature/chains/omegak_lowEE+lowTT+highTTTEEE+Pantheon+lens.4.txt\n",
      "Removed 0.1 as burn in\n"
     ]
    }
   ],
   "source": [
    "from getdist.mcsamples import loadMCSamples\n",
    "from getdist.mcsamples import MCSamples\n",
    "from getdist.types import ResultTable\n",
    "\n",
    "gd_sample = loadMCSamples(\"/home/davidvng/repos/project-curvature/chains/omegak_lowEE+lowTT+highTTTEEE+Pantheon+lens\", settings={'ignore_rows':0.1})\n",
    "table = gd_sample.getTable(paramList=['omega_b',\n",
    "                                      'omega_cdm',\n",
    "                                      'theta_s_1e2',\n",
    "                                      'tau_reio',\n",
    "                                      'logA',\n",
    "                                      'n_s',\n",
    "                                      'Omega_m',\n",
    "                                      'omegamh2',\n",
    "                                      'H0',\n",
    "                                      'age',\n",
    "                                      'sigma8',\n",
    "                                      'z_reio',\n",
    "                                      'rs_drag',\n",
    "                                      'Omega_k',\n",
    "                                      'Omega_Lambda'])"
   ]
  },
  {
   "cell_type": "code",
   "execution_count": 8,
   "metadata": {},
   "outputs": [],
   "source": [
    "tex = table.tableTex(document=True)\n",
    "\n",
    "from latex import build_pdf\n",
    "\n",
    "pdf = build_pdf(tex)\n",
    "pdf.save_to('stats/omegak_lowEE+lowTT+highTTTEEE+Pantheon+lens.pdf')"
   ]
  },
  {
   "cell_type": "code",
   "execution_count": 9,
   "metadata": {},
   "outputs": [
    {
     "name": "stderr",
     "output_type": "stream",
     "text": [
      "WARNING:root:fine_bins not large enough to well sample smoothing scale - chi2__BAO\n",
      "WARNING:root:fine_bins not large enough to well sample smoothing scale - chi2__CMB\n"
     ]
    },
    {
     "name": "stdout",
     "output_type": "stream",
     "text": [
      "/home/davidvng/repos/project-curvature/chains/omegak_lowEE+lowTT+highTT+BAO.1.txt\n",
      "/home/davidvng/repos/project-curvature/chains/omegak_lowEE+lowTT+highTT+BAO.2.txt\n",
      "/home/davidvng/repos/project-curvature/chains/omegak_lowEE+lowTT+highTT+BAO.3.txt\n",
      "/home/davidvng/repos/project-curvature/chains/omegak_lowEE+lowTT+highTT+BAO.4.txt\n",
      "Removed 0.1 as burn in\n"
     ]
    }
   ],
   "source": [
    "from getdist.mcsamples import loadMCSamples\n",
    "from getdist.mcsamples import MCSamples\n",
    "from getdist.types import ResultTable\n",
    "\n",
    "gd_sample = loadMCSamples(\"/home/davidvng/repos/project-curvature/chains/omegak_lowEE+lowTT+highTT+BAO\", settings={'ignore_rows':0.1})\n",
    "table = gd_sample.getTable(paramList=['omega_b',\n",
    "                                      'omega_cdm',\n",
    "                                      'theta_s_1e2',\n",
    "                                      'tau_reio',\n",
    "                                      'logA',\n",
    "                                      'n_s',\n",
    "                                      'Omega_m',\n",
    "                                      'omegamh2',\n",
    "                                      'H0',\n",
    "                                      'age',\n",
    "                                      'sigma8',\n",
    "                                      'z_reio',\n",
    "                                      'rs_drag',\n",
    "                                      'Omega_k',\n",
    "                                      'Omega_Lambda'])"
   ]
  },
  {
   "cell_type": "code",
   "execution_count": 10,
   "metadata": {},
   "outputs": [],
   "source": [
    "tex = table.tableTex(document=True)\n",
    "\n",
    "from latex import build_pdf\n",
    "\n",
    "pdf = build_pdf(tex)\n",
    "pdf.save_to('stats/omegak_lowEE+lowTT+highTT+BAO.pdf')"
   ]
  },
  {
   "cell_type": "code",
   "execution_count": 11,
   "metadata": {},
   "outputs": [
    {
     "name": "stderr",
     "output_type": "stream",
     "text": [
      "WARNING:root:fine_bins not large enough to well sample smoothing scale - chi2__CMB\n",
      "WARNING:root:fine_bins not large enough to well sample smoothing scale - chi2__BAO\n"
     ]
    },
    {
     "name": "stdout",
     "output_type": "stream",
     "text": [
      "/home/davidvng/repos/project-curvature/chains/omegak_lowEE+lowTT+highTTTEEE+BAO.1.txt\n",
      "/home/davidvng/repos/project-curvature/chains/omegak_lowEE+lowTT+highTTTEEE+BAO.2.txt\n",
      "/home/davidvng/repos/project-curvature/chains/omegak_lowEE+lowTT+highTTTEEE+BAO.3.txt\n",
      "/home/davidvng/repos/project-curvature/chains/omegak_lowEE+lowTT+highTTTEEE+BAO.4.txt\n",
      "Removed 0.1 as burn in\n"
     ]
    }
   ],
   "source": [
    "from getdist.mcsamples import loadMCSamples\n",
    "from getdist.mcsamples import MCSamples\n",
    "from getdist.types import ResultTable\n",
    "\n",
    "gd_sample = loadMCSamples(\"/home/davidvng/repos/project-curvature/chains/omegak_lowEE+lowTT+highTTTEEE+BAO\", settings={'ignore_rows':0.1})\n",
    "table = gd_sample.getTable(paramList=['omega_b',\n",
    "                                      'omega_cdm',\n",
    "                                      'theta_s_1e2',\n",
    "                                      'tau_reio',\n",
    "                                      'logA',\n",
    "                                      'n_s',\n",
    "                                      'Omega_m',\n",
    "                                      'omegamh2',\n",
    "                                      'H0',\n",
    "                                      'age',\n",
    "                                      'sigma8',\n",
    "                                      'z_reio',\n",
    "                                      'rs_drag',\n",
    "                                      'Omega_k',\n",
    "                                      'Omega_Lambda'])"
   ]
  },
  {
   "cell_type": "code",
   "execution_count": 12,
   "metadata": {},
   "outputs": [],
   "source": [
    "tex = table.tableTex(document=True)\n",
    "\n",
    "from latex import build_pdf\n",
    "\n",
    "pdf = build_pdf(tex)\n",
    "pdf.save_to('stats/omegak_lowEE+lowTT+highTTTEEE+BAO.pdf')"
   ]
  },
  {
   "cell_type": "code",
   "execution_count": 13,
   "metadata": {},
   "outputs": [
    {
     "name": "stderr",
     "output_type": "stream",
     "text": [
      "WARNING:root:outlier fraction 0.0016377333770062235 \n",
      "WARNING:root:fine_bins not large enough to well sample smoothing scale - chi2__CMB\n"
     ]
    },
    {
     "name": "stdout",
     "output_type": "stream",
     "text": [
      "/home/davidvng/repos/project-curvature/chains/omegak_lowEE+lowTT+highTTTEEE+BAO+lens.1.txt\n",
      "/home/davidvng/repos/project-curvature/chains/omegak_lowEE+lowTT+highTTTEEE+BAO+lens.2.txt\n",
      "/home/davidvng/repos/project-curvature/chains/omegak_lowEE+lowTT+highTTTEEE+BAO+lens.3.txt\n",
      "/home/davidvng/repos/project-curvature/chains/omegak_lowEE+lowTT+highTTTEEE+BAO+lens.4.txt\n",
      "Removed 0.1 as burn in\n"
     ]
    },
    {
     "name": "stderr",
     "output_type": "stream",
     "text": [
      "WARNING:root:fine_bins not large enough to well sample smoothing scale - chi2__BAO\n"
     ]
    }
   ],
   "source": [
    "from getdist.mcsamples import loadMCSamples\n",
    "from getdist.mcsamples import MCSamples\n",
    "from getdist.types import ResultTable\n",
    "\n",
    "gd_sample = loadMCSamples(\"/home/davidvng/repos/project-curvature/chains/omegak_lowEE+lowTT+highTTTEEE+BAO+lens\", settings={'ignore_rows':0.1})\n",
    "table = gd_sample.getTable(paramList=['omega_b',\n",
    "                                      'omega_cdm',\n",
    "                                      'theta_s_1e2',\n",
    "                                      'tau_reio',\n",
    "                                      'logA',\n",
    "                                      'n_s',\n",
    "                                      'Omega_m',\n",
    "                                      'omegamh2',\n",
    "                                      'H0',\n",
    "                                      'age',\n",
    "                                      'sigma8',\n",
    "                                      'z_reio',\n",
    "                                      'rs_drag',\n",
    "                                      'Omega_k',\n",
    "                                      'Omega_Lambda'])"
   ]
  },
  {
   "cell_type": "code",
   "execution_count": 14,
   "metadata": {},
   "outputs": [],
   "source": [
    "tex = table.tableTex(document=True)\n",
    "\n",
    "from latex import build_pdf\n",
    "\n",
    "pdf = build_pdf(tex)\n",
    "pdf.save_to('stats/omegak_lowEE+lowTT+highTTTEEE+BAO+lens.pdf')"
   ]
  },
  {
   "cell_type": "code",
   "execution_count": null,
   "metadata": {},
   "outputs": [],
   "source": []
  }
 ],
 "metadata": {
  "kernelspec": {
   "display_name": "Python 3",
   "language": "python",
   "name": "python3"
  },
  "language_info": {
   "codemirror_mode": {
    "name": "ipython",
    "version": 3
   },
   "file_extension": ".py",
   "mimetype": "text/x-python",
   "name": "python",
   "nbconvert_exporter": "python",
   "pygments_lexer": "ipython3",
   "version": "3.8.2"
  }
 },
 "nbformat": 4,
 "nbformat_minor": 4
}
