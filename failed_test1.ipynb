{
 "cells": [
  {
   "cell_type": "code",
   "execution_count": 1,
   "metadata": {},
   "outputs": [],
   "source": [
    "info = {'likelihood': {'planck_2018_highl_plik.TTTEEE': None,\n",
    "                'planck_2018_lensing.clik': None,\n",
    "                'planck_2018_lowl.EE': None,\n",
    "                'planck_2018_lowl.TT': None},\n",
    " 'params': {'100*theta_s': {'derived': False,\n",
    "                            'value': 'lambda theta_s_1e2: theta_s_1e2'},\n",
    "            'A': {'derived': 'lambda A_s: 1e9*A_s',\n",
    "                  'latex': '10^9 A_\\\\mathrm{s}'},\n",
    "            'A_s': {'latex': 'A_\\\\mathrm{s}',\n",
    "                    'value': 'lambda logA: 1e-10*np.exp(logA)'},\n",
    "            'H0': {'latex': 'H_0'},\n",
    "            'Omega_Lambda': {'latex': '\\\\Omega_\\\\Lambda'},\n",
    "            'Omega_m': {'latex': '\\\\Omega_\\\\mathrm{m}'},\n",
    "            'YHe': {'latex': 'Y_\\\\mathrm{P}'},\n",
    "            'age': {'latex': '{\\\\rm{Age}}/\\\\mathrm{Gyr}'},\n",
    "            'clamp': {'derived': 'lambda A_s, tau_reio: '\n",
    "                                 '1e9*A_s*np.exp(-2*tau_reio)',\n",
    "                      'latex': '10^9 A_\\\\mathrm{s} e^{-2\\\\tau}'},\n",
    "            'logA': {'drop': True,\n",
    "                     'latex': '\\\\log(10^{10} A_\\\\mathrm{s})',\n",
    "                     'prior': {'max': 3.91, 'min': 1.61},\n",
    "                     'proposal': 0.001,\n",
    "                     'ref': {'dist': 'norm', 'loc': 3.05, 'scale': 0.001}},\n",
    "            'm_ncdm': {'renames': 'mnu', 'value': 0.06},\n",
    "            'n_s': {'latex': 'n_\\\\mathrm{s}',\n",
    "                    'prior': {'max': 1.2, 'min': 0.8},\n",
    "                    'proposal': 0.002,\n",
    "                    'ref': {'dist': 'norm', 'loc': 0.965, 'scale': 0.004}},\n",
    "            'omega_b': {'latex': '\\\\Omega_\\\\mathrm{b} h^2',\n",
    "                        'prior': {'max': 0.1, 'min': 0.005},\n",
    "                        'proposal': 0.0001,\n",
    "                        'ref': {'dist': 'norm',\n",
    "                                'loc': 0.0224,\n",
    "                                'scale': 0.0001}},\n",
    "            'omega_cdm': {'latex': '\\\\Omega_\\\\mathrm{c} h^2',\n",
    "                          'prior': {'max': 0.99, 'min': 0.001},\n",
    "                          'proposal': 0.0005,\n",
    "                          'ref': {'dist': 'norm', 'loc': 0.12, 'scale': 0.001}},\n",
    "            'omegamh2': {'derived': 'lambda Omega_m, H0: Omega_m*(H0/100)**2',\n",
    "                         'latex': '\\\\Omega_\\\\mathrm{m} h^2'},\n",
    "            'rs_drag': {'latex': 'r_\\\\mathrm{drag}'},\n",
    "            's8h5': {'derived': 'lambda sigma8, H0: sigma8*(H0*1e-2)**(-0.5)',\n",
    "                     'latex': '\\\\sigma_8/h^{0.5}'},\n",
    "            's8omegamp25': {'derived': 'lambda sigma8, Omega_m: '\n",
    "                                       'sigma8*Omega_m**0.25',\n",
    "                            'latex': '\\\\sigma_8 \\\\Omega_\\\\mathrm{m}^{0.25}'},\n",
    "            's8omegamp5': {'derived': 'lambda sigma8, Omega_m: '\n",
    "                                      'sigma8*Omega_m**0.5',\n",
    "                           'latex': '\\\\sigma_8 \\\\Omega_\\\\mathrm{m}^{0.5}'},\n",
    "            'sigma8': {'latex': '\\\\sigma_8'},\n",
    "            'tau_reio': {'latex': '\\\\tau_\\\\mathrm{reio}',\n",
    "                         'prior': {'max': 0.8, 'min': 0.01},\n",
    "                         'proposal': 0.003,\n",
    "                         'ref': {'dist': 'norm', 'loc': 0.055, 'scale': 0.006}},\n",
    "            'theta_s_1e2': {'drop': True,\n",
    "                            'latex': '100\\\\theta_\\\\mathrm{s}',\n",
    "                            'prior': {'max': 10, 'min': 0.5},\n",
    "                            'proposal': 0.0002,\n",
    "                            'ref': {'dist': 'norm',\n",
    "                                    'loc': 1.0416,\n",
    "                                    'scale': 0.0004}},\n",
    "            'z_reio': {'latex': 'z_\\\\mathrm{re}'}},\n",
    " 'sampler': {'mcmc': {'covmat': 'auto',\n",
    "                      'drag': True,\n",
    "                      'oversample_power': 0.4,\n",
    "                      'proposal_scale': 1.9}},\n",
    " 'theory': {'classy': {'extra_args': {'N_ncdm': 1,\n",
    "                                      'N_ur': 2.0328,\n",
    "                                      'hmcode_min_k_max': 20,\n",
    "                                      'non linear': 'hmcode'}}}}"
   ]
  },
  {
   "cell_type": "code",
   "execution_count": null,
   "metadata": {},
   "outputs": [
    {
     "name": "stdout",
     "output_type": "stream",
     "text": [
      "[prior] *WARNING* External prior 'SZ' loaded. Mind that it might not be normalized!\n",
      "[classy] Importing *local* classy from /Users/fangirl/Repos/curvature/code/classy\n",
      "[mcmc] Getting initial point... (this may take a few seconds)\n",
      "[model] Measuring speeds... (this may take a few seconds)\n"
     ]
    }
   ],
   "source": [
    "from cobaya.run import run\n",
    "\n",
    "updated_info, sampler = run(info)"
   ]
  },
  {
   "cell_type": "code",
   "execution_count": null,
   "metadata": {},
   "outputs": [],
   "source": []
  },
  {
   "cell_type": "code",
   "execution_count": null,
   "metadata": {},
   "outputs": [],
   "source": []
  }
 ],
 "metadata": {
  "kernelspec": {
   "display_name": "Python 3",
   "language": "python",
   "name": "python3"
  },
  "language_info": {
   "codemirror_mode": {
    "name": "ipython",
    "version": 3
   },
   "file_extension": ".py",
   "mimetype": "text/x-python",
   "name": "python",
   "nbconvert_exporter": "python",
   "pygments_lexer": "ipython3",
   "version": "3.8.2"
  }
 },
 "nbformat": 4,
 "nbformat_minor": 4
}
