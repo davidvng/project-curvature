{
 "cells": [
  {
   "cell_type": "code",
   "execution_count": 6,
   "metadata": {},
   "outputs": [],
   "source": [
    "import classy\n",
    "\n",
    "# set cosmological parameters\n",
    "class_params = {\n",
    "    'h': 0.7,\n",
    "    'omega_b': 0.022032,\n",
    "    'omega_cdm': 0.12038,\n",
    "    'Omega_k': 0.,\n",
    "    'A_s': 2.215e-9,\n",
    "    'n_s': 0.96,\n",
    "    'tau_reio': 0.0925,\n",
    "    'output': 'tCl',\n",
    "}\n",
    "cosmo = classy.Class()\n",
    "cosmo.set(class_params)\n",
    "# run class\n",
    "cosmo.compute()"
   ]
  },
  {
   "cell_type": "code",
   "execution_count": 7,
   "metadata": {},
   "outputs": [
    {
     "name": "stdout",
     "output_type": "stream",
     "text": [
      "{'tt': array([0.00000000e+00, 0.00000000e+00, 1.63711916e-10, ...,\n",
      "       8.83366386e-18, 8.79511484e-18, 8.75696379e-18]), 'ell': array([   0,    1,    2, ..., 2498, 2499, 2500])}\n"
     ]
    }
   ],
   "source": [
    "# get C_l output \n",
    "cls = cosmo.raw_cl(2500)\n",
    "print(cls)"
   ]
  },
  {
   "cell_type": "code",
   "execution_count": 10,
   "metadata": {},
   "outputs": [],
   "source": [
    "ll = cls ['ell'][2:]\n",
    "clTT = cls ['tt'][2:]"
   ]
  },
  {
   "cell_type": "code",
   "execution_count": 11,
   "metadata": {},
   "outputs": [],
   "source": [
    "# import modules\n",
    "%matplotlib inline\n",
    "import matplotlib.pyplot as plt\n",
    "from math import pi"
   ]
  },
  {
   "cell_type": "code",
   "execution_count": 12,
   "metadata": {},
   "outputs": [
    {
     "data": {
      "image/png": "[encoded data removed]",
      "text/plain": [
       "<Figure size 432x288 with 1 Axes>"
      ]
     },
     "metadata": {
      "needs_background": "light"
     },
     "output_type": "display_data"
    }
   ],
   "source": [
    "# plot C_l^TT\n",
    "plt.figure(1)\n",
    "plt.xscale('log'); plt.yscale('linear');plt.xlim(2,2500)\n",
    "plt.xlabel(r'$\\ell$')\n",
    "plt.ylabel(r'$[\\ell(\\ell+1)/2\\pi] C_\\ell^\\mathrm{TT}$')\n",
    "plt.plot(ll,clTT*ll*(ll+1)/2./pi,'r-')\n",
    "plt.savefig('spectra_cltt.pdf')"
   ]
  },
  {
   "cell_type": "code",
   "execution_count": 13,
   "metadata": {},
   "outputs": [],
   "source": [
    "cosmo.struct_cleanup()"
   ]
  },
  {
   "cell_type": "code",
   "execution_count": null,
   "metadata": {},
   "outputs": [],
   "source": []
  }
 ],
 "metadata": {
  "kernelspec": {
   "display_name": "Python 3",
   "language": "python",
   "name": "python3"
  },
  "language_info": {
   "codemirror_mode": {
    "name": "ipython",
    "version": 3
   },
   "file_extension": ".py",
   "mimetype": "text/x-python",
   "name": "python",
   "nbconvert_exporter": "python",
   "pygments_lexer": "ipython3",
   "version": "3.8.2"
  }
 },
 "nbformat": 4,
 "nbformat_minor": 4
}
