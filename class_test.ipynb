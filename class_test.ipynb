{
 "cells": [
  {
   "cell_type": "code",
   "execution_count": 1,
   "metadata": {},
   "outputs": [],
   "source": [
    "import classy\n",
    "class_params = {\n",
    "    'h': 0.7,\n",
    "    'omega_b': 0.022032,\n",
    "    'omega_cdm': 0.12038,\n",
    "    'Omega_k': 0.,\n",
    "    'A_s': 2.215e-9,\n",
    "    'n_s': 0.96,\n",
    "    'tau_reio': 0.0925,\n",
    "    'output': 'tCl',\n",
    "}\n",
    "cosmo = classy.Class()\n",
    "cosmo.set(class_params)\n",
    "cosmo.compute()"
   ]
  },
  {
   "cell_type": "code",
   "execution_count": null,
   "metadata": {},
   "outputs": [],
   "source": []
  }
 ],
 "metadata": {
  "kernelspec": {
   "display_name": "Python 3",
   "language": "python",
   "name": "python3"
  },
  "language_info": {
   "codemirror_mode": {
    "name": "ipython",
    "version": 3
   },
   "file_extension": ".py",
   "mimetype": "text/x-python",
   "name": "python",
   "nbconvert_exporter": "python",
   "pygments_lexer": "ipython3",
   "version": "3.8.2"
  }
 },
 "nbformat": 4,
 "nbformat_minor": 4
}
